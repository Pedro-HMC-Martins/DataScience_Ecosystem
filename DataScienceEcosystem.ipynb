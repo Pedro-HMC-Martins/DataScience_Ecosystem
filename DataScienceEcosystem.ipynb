{
 "cells": [
  {
   "cell_type": "markdown",
   "id": "4a45d874",
   "metadata": {},
   "source": [
    "<h1>Data Science Tools and Ecosystem<h1>"
   ]
  },
  {
   "cell_type": "markdown",
   "id": "1e581d95",
   "metadata": {},
   "source": [
    "In this notebook, I will name some of the tools and ecosystems used by data scientists."
   ]
  },
  {
   "cell_type": "markdown",
   "id": "5579f85e",
   "metadata": {},
   "source": [
    "**Objectives:**\n",
    "* Most used languages in Data Science\n",
    "* Most used libraries in Data Science\n",
    "* Open-source developments enviroments for Data Science\n",
    "* Examples of arithmetic expressions\n",
    "* Expression to convert minutes to hours "
   ]
  },
  {
   "cell_type": "markdown",
   "id": "4d5c3915",
   "metadata": {},
   "source": [
    "Some of the popular languages that Data Scientists use are:\n",
    "1. Python\n",
    "2. R\n",
    "3. SQL\n",
    "4. Javascript\n",
    "5. Java\n",
    "6. Julia"
   ]
  },
  {
   "cell_type": "markdown",
   "id": "190d9604",
   "metadata": {},
   "source": [
    "Some of the commonly used libraries used by Data Scientists include:\n",
    "  1. Pandas\n",
    "  2. Seaborn\n",
    "  3. Scikit-learn\n",
    "  4. Numpy\n",
    "  5. ggplot\n",
    "  6. caret\n",
    "  7. dplyr"
   ]
  },
  {
   "cell_type": "markdown",
   "id": "5c86bfee",
   "metadata": {},
   "source": [
    "Data Science Tools\n",
    "* Jupyter Notebook\n",
    "* Jupyter Lab\n",
    "* Rstudio"
   ]
  },
  {
   "cell_type": "markdown",
   "id": "b85c22fa",
   "metadata": {},
   "source": [
    "### Examples of arithmetic expressions in Python"
   ]
  },
  {
   "cell_type": "markdown",
   "id": "560f42af",
   "metadata": {},
   "source": [
    "* (2+5+1)*(5+1-9)\n",
    "* 9*(7-1)\n",
    "* (90/10)*10"
   ]
  },
  {
   "cell_type": "code",
   "execution_count": 5,
   "id": "4cf04079",
   "metadata": {},
   "outputs": [
    {
     "name": "stdout",
     "output_type": "stream",
     "text": [
      "71\n"
     ]
    }
   ],
   "source": [
    "#I have a variable that stores the result of two multiplication operations and two addition operations\n",
    "Resultado = (7*9*1)+2+6\n",
    "print(Resultado)"
   ]
  },
  {
   "cell_type": "code",
   "execution_count": 8,
   "id": "ab4772e5",
   "metadata": {},
   "outputs": [
    {
     "name": "stdout",
     "output_type": "stream",
     "text": [
      "4.0\n"
     ]
    }
   ],
   "source": [
    "#This will convert 240 minutes to hours by diving by 60\n",
    "minutes = 240\n",
    "hours = minutes/60\n",
    "print(hours)"
   ]
  },
  {
   "cell_type": "markdown",
   "id": "3da2ebbc",
   "metadata": {},
   "source": [
    "## Author\n",
    "Pedro Henrique Malheiros Costa Martins"
   ]
  }
 ],
 "metadata": {
  "kernelspec": {
   "display_name": "Python 3 (ipykernel)",
   "language": "python",
   "name": "python3"
  },
  "language_info": {
   "codemirror_mode": {
    "name": "ipython",
    "version": 3
   },
   "file_extension": ".py",
   "mimetype": "text/x-python",
   "name": "python",
   "nbconvert_exporter": "python",
   "pygments_lexer": "ipython3",
   "version": "3.10.9"
  }
 },
 "nbformat": 4,
 "nbformat_minor": 5
}
